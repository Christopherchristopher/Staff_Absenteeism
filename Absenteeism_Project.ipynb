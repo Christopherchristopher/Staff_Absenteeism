{
 "cells": [
  {
   "cell_type": "code",
   "execution_count": null,
   "id": "6c5851eb",
   "metadata": {},
   "outputs": [],
   "source": [
    "import pandas as pd"
   ]
  },
  {
   "cell_type": "code",
   "execution_count": null,
   "id": "6157195b",
   "metadata": {},
   "outputs": [],
   "source": [
    "raw_csv_data = pd.read_csv(r\"C:\\Users\\DELL\\Downloads\\ABSENT.csv\")"
   ]
  },
  {
   "cell_type": "code",
   "execution_count": null,
   "id": "a8fcc96d",
   "metadata": {},
   "outputs": [],
   "source": [
    "raw_csv_data"
   ]
  },
  {
   "cell_type": "code",
   "execution_count": null,
   "id": "10994fc9",
   "metadata": {},
   "outputs": [],
   "source": [
    "#We make a copy of the initial dataset to be on a safe side so that any changes we make wont affect the initial dataset peradventure we need to go back to the original dataset\n",
    "df = raw_csv_data.copy()"
   ]
  },
  {
   "cell_type": "code",
   "execution_count": null,
   "id": "7f35b566",
   "metadata": {},
   "outputs": [],
   "source": [
    "df"
   ]
  },
  {
   "cell_type": "code",
   "execution_count": null,
   "id": "b575ba5d",
   "metadata": {},
   "outputs": [],
   "source": [
    "#To observe the whole dataset at a glance we use the pandas max option\n",
    "pd.options.display.max_columns = None\n",
    "pd.options.display.max_rows = None"
   ]
  },
  {
   "cell_type": "markdown",
   "id": "e75cb572",
   "metadata": {},
   "source": [
    "display(df)"
   ]
  },
  {
   "cell_type": "markdown",
   "id": "9e144c10",
   "metadata": {},
   "source": [
    "#To check for any missing values we use \n",
    "df.info()"
   ]
  },
  {
   "cell_type": "markdown",
   "id": "2d9bde74",
   "metadata": {},
   "source": [
    "Drop ID"
   ]
  },
  {
   "cell_type": "code",
   "execution_count": null,
   "id": "1e82fc1a",
   "metadata": {},
   "outputs": [],
   "source": [
    "df.drop(['ID'], axis=1)"
   ]
  },
  {
   "cell_type": "code",
   "execution_count": null,
   "id": "86e35ccc",
   "metadata": {},
   "outputs": [],
   "source": [
    "df"
   ]
  },
  {
   "cell_type": "code",
   "execution_count": null,
   "id": "12d5f010",
   "metadata": {},
   "outputs": [],
   "source": [
    "df =df.drop(['ID'], axis=1)"
   ]
  },
  {
   "cell_type": "code",
   "execution_count": null,
   "id": "369a39e1",
   "metadata": {},
   "outputs": [],
   "source": [
    "df"
   ]
  },
  {
   "cell_type": "code",
   "execution_count": null,
   "id": "cf945deb",
   "metadata": {},
   "outputs": [],
   "source": [
    "raw_csv_data"
   ]
  },
  {
   "cell_type": "code",
   "execution_count": null,
   "id": "5056ba97",
   "metadata": {},
   "outputs": [],
   "source": [
    "df"
   ]
  },
  {
   "cell_type": "code",
   "execution_count": null,
   "id": "078fdf49",
   "metadata": {},
   "outputs": [],
   "source": [
    "df[\"Reason for Absence\"]"
   ]
  },
  {
   "cell_type": "markdown",
   "id": "fef4e1ce",
   "metadata": {},
   "source": [
    "df[\"Reason for Absence\"].min()"
   ]
  },
  {
   "cell_type": "code",
   "execution_count": null,
   "id": "8871bc3d",
   "metadata": {},
   "outputs": [],
   "source": [
    "df[\"Reason for Absence\"].max()"
   ]
  },
  {
   "cell_type": "code",
   "execution_count": null,
   "id": "245b5a1a",
   "metadata": {},
   "outputs": [],
   "source": [
    "df[\"Reason for Absence\"].unique()"
   ]
  },
  {
   "cell_type": "code",
   "execution_count": null,
   "id": "a0ee456b",
   "metadata": {},
   "outputs": [],
   "source": [
    "len(df[\"Reason for Absence\"].unique())"
   ]
  },
  {
   "cell_type": "markdown",
   "id": "fa1c21e5",
   "metadata": {},
   "source": [
    "sorted(df[\"Reason for Absence\"].unique())"
   ]
  },
  {
   "cell_type": "markdown",
   "id": "5f60dfe5",
   "metadata": {},
   "source": [
    ".get_dummies"
   ]
  },
  {
   "cell_type": "code",
   "execution_count": null,
   "id": "d9b72080",
   "metadata": {},
   "outputs": [],
   "source": [
    "reason_column =pd.get_dummies(df[\"Reason for Absence\"])"
   ]
  },
  {
   "cell_type": "code",
   "execution_count": null,
   "id": "19e093f7",
   "metadata": {},
   "outputs": [],
   "source": [
    "reason_column"
   ]
  },
  {
   "cell_type": "code",
   "execution_count": null,
   "id": "57582dfa",
   "metadata": {},
   "outputs": [],
   "source": [
    "reason_column[\"check\"] = reason_column.sum(axis=1)"
   ]
  },
  {
   "cell_type": "code",
   "execution_count": null,
   "id": "3f74773e",
   "metadata": {},
   "outputs": [],
   "source": [
    "reason_column"
   ]
  },
  {
   "cell_type": "code",
   "execution_count": null,
   "id": "42dc350f",
   "metadata": {},
   "outputs": [],
   "source": [
    "reason_column[\"check\"].sum(axis=0)"
   ]
  },
  {
   "cell_type": "code",
   "execution_count": null,
   "id": "215b2cbd",
   "metadata": {},
   "outputs": [],
   "source": [
    "reason_column[\"check\"].unique()"
   ]
  },
  {
   "cell_type": "code",
   "execution_count": null,
   "id": "aab12228",
   "metadata": {},
   "outputs": [],
   "source": [
    "reason_column.drop([\"check\"],axis = 1)"
   ]
  },
  {
   "cell_type": "code",
   "execution_count": null,
   "id": "beb4516f",
   "metadata": {},
   "outputs": [],
   "source": [
    "reason_column =pd.get_dummies(df[\"Reason for Absence\"], drop_first = True)"
   ]
  },
  {
   "cell_type": "code",
   "execution_count": null,
   "id": "433fedb1",
   "metadata": {},
   "outputs": [],
   "source": [
    "reason_column"
   ]
  },
  {
   "cell_type": "markdown",
   "id": "aa5cc7cd",
   "metadata": {},
   "source": [
    "Group the reason for Absence"
   ]
  },
  {
   "cell_type": "code",
   "execution_count": null,
   "id": "3e0afc7f",
   "metadata": {},
   "outputs": [],
   "source": [
    "df.columns.values"
   ]
  },
  {
   "cell_type": "code",
   "execution_count": null,
   "id": "4e6ec7e2",
   "metadata": {},
   "outputs": [],
   "source": [
    "reason_column.columns.values"
   ]
  },
  {
   "cell_type": "code",
   "execution_count": null,
   "id": "a16d8530",
   "metadata": {},
   "outputs": [],
   "source": [
    "df = df.drop([\"Reason for Absence\"], axis= 1)"
   ]
  },
  {
   "cell_type": "code",
   "execution_count": null,
   "id": "207b7786",
   "metadata": {},
   "outputs": [],
   "source": [
    "df"
   ]
  },
  {
   "cell_type": "markdown",
   "id": "d226cbf8",
   "metadata": {},
   "source": [
    "Classification of Dummy Variables"
   ]
  },
  {
   "cell_type": "code",
   "execution_count": null,
   "id": "f58f930c",
   "metadata": {},
   "outputs": [],
   "source": [
    "reason_type_1 = reason_column.loc[:,1:14].max(axis=1)\n",
    "reason_type_2 = reason_column.loc[:,15:17].max(axis=1)\n",
    "reason_type_3 = reason_column.loc[:,18:21].max(axis=1)\n",
    "reason_type_4 = reason_column.loc[:,22:].max(axis=1)"
   ]
  },
  {
   "cell_type": "code",
   "execution_count": null,
   "id": "568020d6",
   "metadata": {},
   "outputs": [],
   "source": [
    "reason_type_1"
   ]
  },
  {
   "cell_type": "code",
   "execution_count": null,
   "id": "2488c8ae",
   "metadata": {},
   "outputs": [],
   "source": [
    "reason_type_2"
   ]
  },
  {
   "cell_type": "markdown",
   "id": "e68fd5f7",
   "metadata": {},
   "source": [
    "Concatenate Column Values"
   ]
  },
  {
   "cell_type": "code",
   "execution_count": null,
   "id": "ee473be6",
   "metadata": {},
   "outputs": [],
   "source": [
    "df"
   ]
  },
  {
   "cell_type": "code",
   "execution_count": null,
   "id": "c6dc6bee",
   "metadata": {},
   "outputs": [],
   "source": [
    "df = pd.concat([df,reason_type_1,reason_type_2,reason_type_3,reason_type_4], axis=1)"
   ]
  },
  {
   "cell_type": "code",
   "execution_count": null,
   "id": "fc2f6eae",
   "metadata": {},
   "outputs": [],
   "source": [
    "df"
   ]
  },
  {
   "cell_type": "markdown",
   "id": "5416e483",
   "metadata": {},
   "source": [
    "df.columns.values"
   ]
  },
  {
   "cell_type": "code",
   "execution_count": null,
   "id": "a8f5801b",
   "metadata": {},
   "outputs": [],
   "source": [
    "column_names = ['Date', 'Transportation Expense', 'Distance to Work', 'Age',\n",
    "       'Daily Work Load Average', 'Body Mass Index', 'Education',\n",
    "       'Children', 'Pets', 'Absenteeism Time in Hours', \"reason_1\",\"reason_2\",\"reason_3\",\"reason_4\"]"
   ]
  },
  {
   "cell_type": "code",
   "execution_count": null,
   "id": "68b45d37",
   "metadata": {},
   "outputs": [],
   "source": [
    "df.columns = column_names"
   ]
  },
  {
   "cell_type": "code",
   "execution_count": null,
   "id": "b81704fe",
   "metadata": {},
   "outputs": [],
   "source": [
    "df.head()"
   ]
  },
  {
   "cell_type": "markdown",
   "id": "d192c0fd",
   "metadata": {},
   "source": [
    "Reorder Columns"
   ]
  },
  {
   "cell_type": "code",
   "execution_count": null,
   "id": "fc187e6e",
   "metadata": {},
   "outputs": [],
   "source": [
    "Columns_name_reordered =  [\"reason_1\",\"reason_2\",\"reason_3\",\"reason_4\", 'Date', 'Transportation Expense', 'Distance to Work', 'Age',\n",
    "       'Daily Work Load Average', 'Body Mass Index', 'Education',\n",
    "       'Children', 'Pets', 'Absenteeism Time in Hours',]"
   ]
  },
  {
   "cell_type": "code",
   "execution_count": null,
   "id": "1f7368f6",
   "metadata": {},
   "outputs": [],
   "source": [
    "df = df[Columns_name_reordered]"
   ]
  },
  {
   "cell_type": "code",
   "execution_count": null,
   "id": "cc461088",
   "metadata": {},
   "outputs": [],
   "source": [
    "df.head()"
   ]
  },
  {
   "cell_type": "markdown",
   "id": "3667464c",
   "metadata": {},
   "source": [
    "Create Checkpoints"
   ]
  },
  {
   "cell_type": "code",
   "execution_count": null,
   "id": "8dd948a5",
   "metadata": {},
   "outputs": [],
   "source": [
    "df_reason_mod = df.copy()"
   ]
  },
  {
   "cell_type": "code",
   "execution_count": null,
   "id": "a1b7ea5d",
   "metadata": {},
   "outputs": [],
   "source": [
    "df_reason_mod"
   ]
  },
  {
   "cell_type": "markdown",
   "id": "9c769c8c",
   "metadata": {},
   "source": [
    "DATE"
   ]
  },
  {
   "cell_type": "code",
   "execution_count": null,
   "id": "decff9ae",
   "metadata": {},
   "outputs": [],
   "source": [
    "type(df_reason_mod[\"Date\"])"
   ]
  },
  {
   "cell_type": "code",
   "execution_count": null,
   "id": "f39b1596",
   "metadata": {},
   "outputs": [],
   "source": [
    "type(df_reason_mod[\"Date\"][0])"
   ]
  },
  {
   "cell_type": "code",
   "execution_count": null,
   "id": "827f07e3",
   "metadata": {},
   "outputs": [],
   "source": [
    "df_reason_mod[\"Date\"] = pd.to_datetime(df_reason_mod[\"Date\"])"
   ]
  },
  {
   "cell_type": "code",
   "execution_count": null,
   "id": "873e276a",
   "metadata": {
    "scrolled": true
   },
   "outputs": [],
   "source": [
    "df_reason_mod[\"Date\"]"
   ]
  },
  {
   "cell_type": "code",
   "execution_count": null,
   "id": "0ad04a1b",
   "metadata": {},
   "outputs": [],
   "source": [
    "df_reason_mod[\"Date\"] = pd.to_datetime(df_reason_mod[\"Date\"], format = \"%d-%m-%Y\")"
   ]
  },
  {
   "cell_type": "code",
   "execution_count": null,
   "id": "db2f49de",
   "metadata": {},
   "outputs": [],
   "source": [
    "df_reason_mod[\"Date\"]"
   ]
  },
  {
   "cell_type": "code",
   "execution_count": null,
   "id": "80a98ba5",
   "metadata": {},
   "outputs": [],
   "source": [
    "df_reason_mod.info()"
   ]
  },
  {
   "cell_type": "markdown",
   "id": "dc7a17aa",
   "metadata": {},
   "source": [
    "EXTRACTING THE MONTH VALUE"
   ]
  },
  {
   "cell_type": "code",
   "execution_count": null,
   "id": "e56667fc",
   "metadata": {},
   "outputs": [],
   "source": [
    "df_reason_mod[\"Date\"][0]"
   ]
  },
  {
   "cell_type": "code",
   "execution_count": null,
   "id": "f5042977",
   "metadata": {},
   "outputs": [],
   "source": [
    "df_reason_mod[\"Date\"][0].month"
   ]
  },
  {
   "cell_type": "code",
   "execution_count": null,
   "id": "cbef9d2f",
   "metadata": {},
   "outputs": [],
   "source": [
    "list_months =[]\n",
    "list_months"
   ]
  },
  {
   "cell_type": "code",
   "execution_count": null,
   "id": "0f233ebf",
   "metadata": {},
   "outputs": [],
   "source": [
    "for i in range(df_reason_mod.shape[0]):\n",
    "    list_months.append(df_reason_mod[\"Date\"][i].month)"
   ]
  },
  {
   "cell_type": "code",
   "execution_count": null,
   "id": "9cb8e4b4",
   "metadata": {},
   "outputs": [],
   "source": [
    "list_months"
   ]
  },
  {
   "cell_type": "code",
   "execution_count": null,
   "id": "e3511bae",
   "metadata": {},
   "outputs": [],
   "source": [
    "df_reason_mod[\"Month Value\"] = list_months"
   ]
  },
  {
   "cell_type": "code",
   "execution_count": null,
   "id": "10f11259",
   "metadata": {},
   "outputs": [],
   "source": [
    "df_reason_mod.head()"
   ]
  },
  {
   "cell_type": "code",
   "execution_count": null,
   "id": "e26c17c8",
   "metadata": {},
   "outputs": [],
   "source": [
    "df_reason_mod[\"Date\"][698].weekday()"
   ]
  },
  {
   "cell_type": "code",
   "execution_count": null,
   "id": "1c4cf8a6",
   "metadata": {},
   "outputs": [],
   "source": [
    "df_reason_mod[\"Date\"][698]"
   ]
  },
  {
   "cell_type": "code",
   "execution_count": null,
   "id": "0a937de6",
   "metadata": {},
   "outputs": [],
   "source": [
    "def date_to_weekday(date_value):\n",
    "    return date_value.weekday()"
   ]
  },
  {
   "cell_type": "code",
   "execution_count": null,
   "id": "b6c6c4dc",
   "metadata": {},
   "outputs": [],
   "source": [
    "df_reason_mod[\"Day of the week\"] = df_reason_mod[\"Date\"].apply(date_to_weekday)"
   ]
  },
  {
   "cell_type": "code",
   "execution_count": null,
   "id": "62cfde96",
   "metadata": {},
   "outputs": [],
   "source": [
    "df_reason_mod.head()"
   ]
  },
  {
   "cell_type": "code",
   "execution_count": null,
   "id": "6c982499",
   "metadata": {},
   "outputs": [],
   "source": [
    "type(df_reason_mod[\"Transportation Expense\"][0])  "
   ]
  },
  {
   "cell_type": "code",
   "execution_count": null,
   "id": "502b35dc",
   "metadata": {},
   "outputs": [],
   "source": [
    "type(df_reason_mod[\"Distance to Work\"][0])"
   ]
  },
  {
   "cell_type": "code",
   "execution_count": null,
   "id": "aea22990",
   "metadata": {},
   "outputs": [],
   "source": [
    "type(df_reason_mod[\"Age\"][0])"
   ]
  },
  {
   "cell_type": "code",
   "execution_count": null,
   "id": "38a1ce82",
   "metadata": {},
   "outputs": [],
   "source": [
    "type(df_reason_mod[\"Daily Work Load Average\"][0])"
   ]
  },
  {
   "cell_type": "code",
   "execution_count": null,
   "id": "393ec807",
   "metadata": {},
   "outputs": [],
   "source": [
    "type(df_reason_mod[\"Body Mass Index\"][0])"
   ]
  },
  {
   "cell_type": "markdown",
   "id": "5214fd96",
   "metadata": {},
   "source": [
    "EDUCATION ,CHILDREN,PETs"
   ]
  },
  {
   "cell_type": "code",
   "execution_count": null,
   "id": "308c5e72",
   "metadata": {},
   "outputs": [],
   "source": [
    "df_reason_mod[\"Education\"].unique()"
   ]
  },
  {
   "cell_type": "code",
   "execution_count": null,
   "id": "de9c156f",
   "metadata": {},
   "outputs": [],
   "source": [
    "df_reason_mod[\"Education\"].value_counts()"
   ]
  },
  {
   "cell_type": "code",
   "execution_count": null,
   "id": "0e808f9c",
   "metadata": {},
   "outputs": [],
   "source": [
    "df_reason_mod[\"Education\"] = df_reason_mod[\"Education\"].map({1:0, 2:1, 3:1, 4:1})"
   ]
  },
  {
   "cell_type": "code",
   "execution_count": null,
   "id": "b36fb942",
   "metadata": {},
   "outputs": [],
   "source": [
    "df_reason_mod[\"Education\"].unique()"
   ]
  },
  {
   "cell_type": "code",
   "execution_count": null,
   "id": "bddea026",
   "metadata": {},
   "outputs": [],
   "source": [
    "df_reason_mod[\"Education\"].value_counts()"
   ]
  },
  {
   "cell_type": "markdown",
   "id": "1a8d6cdf",
   "metadata": {},
   "source": [
    "FINAL CHECKPOINT"
   ]
  },
  {
   "cell_type": "code",
   "execution_count": null,
   "id": "e8f4954e",
   "metadata": {},
   "outputs": [],
   "source": [
    "df_preprocessed = df_reason_mod.copy()"
   ]
  },
  {
   "cell_type": "code",
   "execution_count": null,
   "id": "51d82bfa",
   "metadata": {},
   "outputs": [],
   "source": [
    "df_preprocessed.head(10)"
   ]
  },
  {
   "cell_type": "code",
   "execution_count": null,
   "id": "073c0f7f",
   "metadata": {},
   "outputs": [],
   "source": [
    "df_preprocessed.to_csv(r\"C:\\Users\\DELL\\Downloads\\df_preprocessed.csv\",index = False)"
   ]
  },
  {
   "cell_type": "code",
   "execution_count": null,
   "id": "6edac979",
   "metadata": {},
   "outputs": [],
   "source": []
  }
 ],
 "metadata": {
  "kernelspec": {
   "display_name": "Python 3 (ipykernel)",
   "language": "python",
   "name": "python3"
  },
  "language_info": {
   "codemirror_mode": {
    "name": "ipython",
    "version": 3
   },
   "file_extension": ".py",
   "mimetype": "text/x-python",
   "name": "python",
   "nbconvert_exporter": "python",
   "pygments_lexer": "ipython3",
   "version": "3.7.11"
  }
 },
 "nbformat": 4,
 "nbformat_minor": 5
}
